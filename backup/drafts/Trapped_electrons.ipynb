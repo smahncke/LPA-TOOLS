{
 "cells": [
  {
   "cell_type": "code",
   "execution_count": 2,
   "metadata": {
    "collapsed": true
   },
   "outputs": [],
   "source": [
    "import numpy as np\n",
    "from scipy.integrate import odeint\n",
    "from pylab import *\n",
    "import scipy.constants as const\n",
    "from numba import double\n",
    "from numba.decorators import jit, autojit\n",
    "from scipy.constants import m_e,c,e, epsilon_0\n",
    "import matplotlib.pyplot as plt\n",
    "from pylab import title, show"
   ]
  },
  {
   "cell_type": "code",
   "execution_count": 3,
   "metadata": {
    "collapsed": true
   },
   "outputs": [],
   "source": [
    "# -----\n",
    "# Input\n",
    "# -----\n",
    "\n",
    "n_e = 1.e24 # Plasma density\n",
    "lambda_0 = 800.e-9 #laser wavelength\n",
    "FWHM = 1.19e-5\n",
    "E_max = 2 \n",
    "a0 = 1.2"
   ]
  },
  {
   "cell_type": "code",
   "execution_count": 5,
   "metadata": {},
   "outputs": [],
   "source": [
    "# ----------\n",
    "# Parameters\n",
    "# ----------\n",
    "\n",
    "omega_0 = 2*np.pi*c/lambda_0 # Omega of the laser\n",
    "\n",
    "# Density distribution\n",
    "def n(zz):  \n",
    "    return n_e * ones(zz.size)\n",
    "\n",
    "# Plasma frequency\n",
    "def omega_p(zz): \n",
    "    return sqrt(n(zz)*e**2/(epsilon_0*m_e))\n",
    "\n",
    "# Initial electric field of the plasma in V/m\n",
    "def E_0(zz):\n",
    "    return c*m_e*omega_p(zz)/e \n",
    "\n",
    "# Normalized plasma phase velocity\n",
    "def beta_p(zz):\n",
    "    return 1-omega_p(zz)**2/(2*omega_0**2)\n",
    "    \n",
    "# Plasma wave phase velocity\n",
    "def gamma_p(zz):\n",
    "    return np.sqrt(1/(1-beta_p(zz)**2))\n",
    "\n",
    "# Plasma wavenumber\n",
    "def k_p(zz): \n",
    "    return omega_p(zz)/c\n",
    "\n",
    "#ENVELOPE\n",
    "def a(psi,max_a):\n",
    "    sigma = FWHM/(np.sqrt(2*np.log(2)))\n",
    "    laser_a = max_a*np.exp(-(psi)**2/(2*sigma**2))\n",
    "    return(laser_a)"
   ]
  },
  {
   "cell_type": "code",
   "execution_count": 8,
   "metadata": {
    "collapsed": true
   },
   "outputs": [],
   "source": [
    "# --------------------------------- \n",
    "# Quasi static plasma wave equation\n",
    "# ---------------------------------\n",
    "\n",
    "# Potential (XI DEPENDENCE)\n",
    "#def potentialeq(phi,xi,z,zi): # Potential equation\n",
    "#    return array([phi[1],((1+a(xi*k_p(z)[zi],a0,RMS)**2)/(2*(phi[0]+1))-0.5)*(kp(z)[zi]/1e6)**2])\n",
    "\n",
    "# Potential (PSI DEPENDENCE)\n",
    "def potentialeq(phi,psi,z,zi):\n",
    "    return array([phi[1],gamma_p(z)[zi]**2 * (beta_p(z)[zi]*(np.sqrt(1/(1 - (1+ a(psi,a0)**2)/(gamma_p(z)[zi]**2 * (1+phi[0])**2))))-1)])\n",
    "\n",
    "# Phi min\n",
    "def get_phi_min(E_max,z):\n",
    "    return (-1+1/(2*gamma_p(z)**2))*(1-1/E_max**2) + E_max**2/(4*gamma_p(z)**2)"
   ]
  },
  {
   "cell_type": "code",
   "execution_count": 9,
   "metadata": {},
   "outputs": [
    {
     "name": "stderr",
     "output_type": "stream",
     "text": [
      "/Users/sebastian/anaconda/lib/python3.6/site-packages/ipykernel_launcher.py:8: DeprecationWarning: object of type <class 'float'> cannot be safely interpreted as an integer.\n",
      "  \n"
     ]
    }
   ],
   "source": [
    "# -----\n",
    "# PLOTS\n",
    "# -----\n",
    "\n",
    "\n",
    "fig, ax = plt.subplots(figsize=(12,5))\n",
    "\n",
    "psi = np.linspace(-2*np.pi,2*np.pi,1e2)\n",
    "z = np.linspace(0, 1000, 100)\n",
    "    \n",
    "# Initial conditions\n",
    "phiinit = array([0,0]) \n",
    "    \n",
    "# Solve the quasi static plasma wave equation\n",
    "phi = list(map(lambda x: odeint(potentialeq, phiinit, psi, args = (z,x,)),range(10)))\n",
    "\n",
    "# Plot of the solution\n",
    "#ax.plot(psi/np.pi,phi[3][:,0], linestyle='--', label=\"$a_0 =$ \"+str(\"%.1f\" % a0)+\"\")\n",
    "\n",
    "# Plot of the trapping condition\n",
    "    \n",
    "def left_side(zz): # Left side of the trapping equation\n",
    "    return 1 + get_phi_min(E_max,zz) - phi[3][:,0]\n",
    "\n",
    "def right_side(zz): # Right side of the trapping equation\n",
    "    return np.sqrt(1+a(psi,a0)**2)/gamma_p(zz)\n",
    "\n",
    "def condition_fullfilled(zz): # Checks if the trapping condition is fullfilled (right_side() >= left_side())\n",
    "    diff = np.zeros_like(psi, dtype=object)\n",
    "    diff = np.where(right_side(zz)-left_side(zz) < 0,0,right_side(zz)-left_side(zz))\n",
    "    return diff # Just =/= 0 if condition is fullfilled\n",
    "\n",
    "# Plot the condition \n",
    "ax.plot(psi/np.pi,condition_fullfilled(z),label=\"$a_0 =$ \"+str(\"%.1f\" % a0)+\"\")\n",
    "    \n",
    "# Plot the left and the right side of the trapping condition equation\n",
    "#ax.plot(psi/np.pi,right_side(z)-left_side(z),label=\"$a_0 =$ \"+str(\"%.1f\" % a0)+\"\")\n",
    "#ax.plot(psi/np.pi,a(psi,a0,RMS), linestyle='--')\n",
    "\n",
    "# Set the labels\n",
    "ax.set_xlabel(r'$\\psi\\,[\\pi]$',fontdict={'fontsize':20})\n",
    "ax.set_ylabel('$H_S - H_i$',fontdict={'fontsize':20})\n",
    "\n",
    "# Plot an example of the laser profile\n",
    "ax.plot(psi/np.pi,a(psi,1.2), linestyle='--', color=\"grey\", label=\"Laser\")\n",
    "\n",
    "# Make the legend\n",
    "legend = ax.legend(loc='upper left', shadow=True)\n",
    "for label in legend.get_texts():\n",
    "    label.set_fontsize('medium')\n",
    "\n",
    "for label in legend.get_lines():\n",
    "    label.set_linewidth(1.5)  # the legend line width"
   ]
  },
  {
   "cell_type": "code",
   "execution_count": 10,
   "metadata": {},
   "outputs": [
    {
     "data": {
      "image/png": "[encoded data removed]",
      "text/plain": [
       "<matplotlib.figure.Figure at 0x10abb39b0>"
      ]
     },
     "metadata": {},
     "output_type": "display_data"
    },
    {
     "data": {
      "image/png": "[encoded data removed]",
      "text/plain": [
       "<matplotlib.figure.Figure at 0x10ac4e278>"
      ]
     },
     "metadata": {},
     "output_type": "display_data"
    }
   ],
   "source": [
    "plt.show()"
   ]
  },
  {
   "cell_type": "code",
   "execution_count": null,
   "metadata": {
    "collapsed": true
   },
   "outputs": [],
   "source": []
  }
 ],
 "metadata": {
  "kernelspec": {
   "display_name": "Python 3",
   "language": "python",
   "name": "python3"
  },
  "language_info": {
   "codemirror_mode": {
    "name": "ipython",
    "version": 3
   },
   "file_extension": ".py",
   "mimetype": "text/x-python",
   "name": "python",
   "nbconvert_exporter": "python",
   "pygments_lexer": "ipython3",
   "version": "3.6.1"
  }
 },
 "nbformat": 4,
 "nbformat_minor": 2
}
