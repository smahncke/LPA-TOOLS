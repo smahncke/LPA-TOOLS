{
 "cells": [
  {
   "cell_type": "markdown",
   "metadata": {},
   "source": [
    "##### IMPORTS"
   ]
  },
  {
   "cell_type": "code",
   "execution_count": 1,
   "metadata": {
    "collapsed": true
   },
   "outputs": [],
   "source": [
    "import numpy as np\n",
    "from scipy.integrate import odeint\n",
    "from pylab import *\n",
    "import scipy.constants as const\n",
    "from numba import double\n",
    "from numba.decorators import jit, autojit\n",
    "from scipy.constants import m_e,c,e, epsilon_0\n",
    "import matplotlib.pyplot as plt\n",
    "from pylab import title, show"
   ]
  },
  {
   "cell_type": "markdown",
   "metadata": {},
   "source": [
    "##### INPUT & SETTINGS"
   ]
  },
  {
   "cell_type": "code",
   "execution_count": 2,
   "metadata": {
    "collapsed": true
   },
   "outputs": [],
   "source": [
    "n_e = 1.e24 # Plasma density\n",
    "lambda_0 = 800.e-9 #laser wavelength\n",
    "RMS = 1 # RMS of the gaussian laser profile\n",
    "E_max = 2 \n",
    "\n",
    "a0 = [0., 1.4, 0.2] # Range of the possible values for the laser amplitude [initial value, max value, step_width] "
   ]
  },
  {
   "cell_type": "markdown",
   "metadata": {},
   "source": [
    "###### PARAMETER"
   ]
  },
  {
   "cell_type": "code",
   "execution_count": 3,
   "metadata": {
    "collapsed": true
   },
   "outputs": [],
   "source": [
    "omega_0 = 2*np.pi*c/lambda_0 # Omega of the laser\n",
    "\n",
    "a0_init = a0[0]\n",
    "a0_end = a0[1]\n",
    "a0_step = a0[2]\n",
    "\n",
    "# Density distribution\n",
    "def n(zz):  \n",
    "    return n_e * ones(zz.size)\n",
    "\n",
    "# Plasma frequency\n",
    "def omega_p(zz): \n",
    "    return sqrt(n(zz)*e**2/(epsilon_0*m_e))\n",
    "\n",
    "# Initial electric field of the plasma in V/m\n",
    "def E_0(zz):\n",
    "    return c*m_e*omega_p(zz)/e \n",
    "\n",
    "# Normalized plasma phase velocity\n",
    "def beta_p(zz):\n",
    "    return 1-omega_p(zz)**2/(2*omega_0**2)\n",
    "    \n",
    "# Plasma wave phase velocity\n",
    "def gamma_p(zz):\n",
    "    return np.sqrt(1/(1-beta_p(zz)**2))\n",
    "\n",
    "# Plasma wavenumber\n",
    "def k_p(zz): \n",
    "    return omega_p(zz)/c\n",
    "\n",
    "# Laser profile\n",
    "def a(psi,a0,RMS):\n",
    "    return a0*np.exp(-psi**2/(4*RMS**2))"
   ]
  },
  {
   "cell_type": "markdown",
   "metadata": {},
   "source": [
    "##### QUASI STATIC PLASMA WAVE EQUATION"
   ]
  },
  {
   "cell_type": "code",
   "execution_count": 4,
   "metadata": {
    "collapsed": true
   },
   "outputs": [],
   "source": [
    "# Potential (PSI DEPENDENCE)\n",
    "def potentialeq(phi,psi,z,zi):\n",
    "    return array([phi[1],gamma_p(z)[zi]**2 * (beta_p(z)[zi]*(np.sqrt(1/(1 - (1+ a(psi,a0,RMS)**2)/(gamma_p(z)[zi]**2 * (1+phi[0])**2))))-1)])\n",
    "\n",
    "# Phi min\n",
    "def get_phi_min(E_max,z):\n",
    "    return (-1+1/(2*gamma_p(z)**2))*(1-1/E_max**2) + E_max**2/(4*gamma_p(z)**2)"
   ]
  },
  {
   "cell_type": "markdown",
   "metadata": {},
   "source": [
    "##### PLOTS"
   ]
  },
  {
   "cell_type": "code",
   "execution_count": 5,
   "metadata": {},
   "outputs": [
    {
     "name": "stderr",
     "output_type": "stream",
     "text": [
      "/Users/sebastian/anaconda/lib/python3.6/site-packages/ipykernel_launcher.py:8: DeprecationWarning: object of type <class 'float'> cannot be safely interpreted as an integer.\n",
      "  \n"
     ]
    }
   ],
   "source": [
    "a0 = a0_init\n",
    "\n",
    "plot_number = int((a0_end-a0_init)/a0_step)\n",
    "\n",
    "fig, ax = plt.subplots(figsize=(12,5))\n",
    "\n",
    "for i in range(0,plot_number+2):\n",
    "    psi = np.linspace(-2*np.pi,2*np.pi,1e2)\n",
    "    z = np.linspace(0, 1000, 100)\n",
    "    \n",
    "    # Initial conditions\n",
    "    phiinit = array([0,0]) \n",
    "    \n",
    "    # Solve the quasi static plasma wave equation\n",
    "    phi = list(map(lambda x: odeint(potentialeq, phiinit, psi, args = (z,x,)),range(10)))\n",
    "\n",
    "    # Plot of the solution\n",
    "    #ax.plot(psi/np.pi,phi[3][:,0], linestyle='--', label=\"$a_0 =$ \"+str(\"%.1f\" % a0)+\"\")\n",
    "\n",
    "    # Plot of the trapping condition\n",
    "    \n",
    "    def left_side(zz): # Left side of the trapping equation\n",
    "        return 1 + get_phi_min(E_max,zz) - phi[3][:,0]\n",
    "\n",
    "    def right_side(zz): # Right side of the trapping equation\n",
    "        return np.sqrt(1+a(psi,a0,RMS)**2)/gamma_p(zz)\n",
    "\n",
    "    def condition_fullfilled(zz): # Checks if the trapping condition is fullfilled (right_side() >= left_side())\n",
    "        diff = np.zeros_like(psi, dtype=object)\n",
    "        diff = np.where(right_side(zz)-left_side(zz) < 0,0,right_side(zz)-left_side(zz))\n",
    "        return diff # Just =/= 0 if condition is fullfilled\n",
    "\n",
    "    # Plot the condition \n",
    "    ax.plot(psi/np.pi,condition_fullfilled(z),label=\"$a_0 =$ \"+str(\"%.1f\" % a0)+\"\")\n",
    "    \n",
    "    # Plot the left and the right side of the trapping condition equation\n",
    "    #ax.plot(psi/np.pi,right_side(z)-left_side(z),label=\"$a_0 =$ \"+str(\"%.1f\" % a0)+\"\")\n",
    "    #ax.plot(psi/np.pi,a(psi,a0,RMS), linestyle='--')\n",
    "    \n",
    "    a0 += a0_step\n",
    "\n",
    "# Set the labels\n",
    "ax.set_xlabel(r'$\\psi\\,[\\pi]$',fontdict={'fontsize':20})\n",
    "ax.set_ylabel('$H_i - H_S$',fontdict={'fontsize':20})\n",
    "\n",
    "# Plot an example of the laser profile\n",
    "ax.plot(psi/np.pi,a(psi,1.7,RMS), linestyle='--', color=\"grey\", label=\"Laser\")\n",
    "\n",
    "# Make the legend\n",
    "legend = ax.legend(loc='upper left', shadow=True)\n",
    "for label in legend.get_texts():\n",
    "    label.set_fontsize('medium')\n",
    "\n",
    "for label in legend.get_lines():\n",
    "    label.set_linewidth(1.5)  # the legend line width\n"
   ]
  },
  {
   "cell_type": "code",
   "execution_count": null,
   "metadata": {
    "collapsed": true
   },
   "outputs": [],
   "source": [
    "pl"
   ]
  }
 ],
 "metadata": {
  "kernelspec": {
   "display_name": "Python 3",
   "language": "python",
   "name": "python3"
  },
  "language_info": {
   "codemirror_mode": {
    "name": "ipython",
    "version": 3
   },
   "file_extension": ".py",
   "mimetype": "text/x-python",
   "name": "python",
   "nbconvert_exporter": "python",
   "pygments_lexer": "ipython3",
   "version": "3.6.1"
  }
 },
 "nbformat": 4,
 "nbformat_minor": 2
}
