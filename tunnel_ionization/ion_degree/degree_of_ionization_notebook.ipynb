{
 "cells": [
  {
   "cell_type": "markdown",
   "metadata": {},
   "source": [
    "##### IMPORTS"
   ]
  },
  {
   "cell_type": "code",
   "execution_count": 2,
   "metadata": {
    "collapsed": true
   },
   "outputs": [],
   "source": [
    "import numpy as np\n",
    "import matplotlib.pyplot as plt\n",
    "import datetime\n",
    "from pylab import title, show\n",
    "from scipy.constants import e, c, m_e, h, alpha, hbar\n",
    "import sys"
   ]
  },
  {
   "cell_type": "markdown",
   "metadata": {},
   "source": [
    "##### PARAMETERS"
   ]
  },
  {
   "cell_type": "code",
   "execution_count": 4,
   "metadata": {
    "collapsed": true
   },
   "outputs": [],
   "source": [
    "#LASER\n",
    "lambda_0 = 800e-9 #laser wavelength in m\n",
    "FWHM = 1.19e-5 #Full width at  half max of the gaussian laser (in pi)\n",
    "w0 = 35.e-6 #Laser waist\n",
    "ctau = 14.e-6 #Duration\n",
    "z0 = 0.e-6 \n",
    "zf = 500.e-6 #Focus\n",
    "a0 = 1.2 #The peak amplitude of the laser\n",
    "n0 = 0.5e24 #Gas density\n",
    "\n",
    "#GAS\n",
    "energy = 0e3 #initial energy of the ionized electrons (in eV)\n",
    "element = 'N' # Element that is used fo ionization injection (string, use the shortcut, f.e. 'N' for nitrogen)\n",
    "\n",
    "#IONIZATION ENERGIES\n",
    "if element == 'N':\n",
    "\tU_G = [14.534,29.600,47.449,77.473,97.890,552.070,667.045]\n",
    "elif element == 'Ar':\n",
    "\tU_G = [15.760,27.629,40.742,59.812,75.017,91.009,124.319,143.462,422.448,478.684,\t538.963,618.260,686.104,755.742,854.772,918.026,4120.887,4426.228]\n",
    "elif element == 'Kr':\n",
    "\tU_G = [14.000,24.360,26.949,52.547,64.673,78.458,111.001,125.802,230.854,268.227,307.819,350.312,390.733,446.700,492.303,541.015,591.800,640.512,785.612,833.287,884.072,936.930,998.079,1050.937,1151.471,1205.261,2927,907,3069.897,3227.434,3380.826]\n",
    "else:\n",
    "\tprint(\"Choose an available element for ionization injection\")\n",
    "\n",
    "#PLOT SETTINGS\n",
    "ion_niveau = 0 #The niveau that should get ionized "
   ]
  },
  {
   "cell_type": "markdown",
   "metadata": {},
   "source": [
    "##### CONSTANTS AND OTHR PARAMETERS"
   ]
  },
  {
   "cell_type": "code",
   "execution_count": 5,
   "metadata": {
    "collapsed": true
   },
   "outputs": [],
   "source": [
    "#Physical constants\n",
    "lambda_c = h/(m_e * c) #compton wavelength\n",
    "U_H = 13.6 #ionization potential of hydrogen in eV\n",
    "epsilon_0 = 8.854e-12 #Vacuum permittivity\n",
    "\n",
    "#Other parameters\n",
    "k_0 = 2*np.pi/lambda_0 #wave number of the laser\n",
    "E_k = (1/e)*k_0*(c**2)*m_e #laser energy\n",
    "omega_0 = c*k_0 #laser frequency\n",
    "U_i = U_G[ion_niveau] #Get the ionization energies out of the arrays\n",
    "max_a = a0 #Set the max laser amplitude"
   ]
  },
  {
   "cell_type": "markdown",
   "metadata": {},
   "source": [
    "##### LASER PROFILES"
   ]
  },
  {
   "cell_type": "code",
   "execution_count": 6,
   "metadata": {
    "collapsed": true
   },
   "outputs": [],
   "source": [
    "#OSCILLATING PULSE\n",
    "def gaussian_profile(max_a, z, r, t, w0, ctau, z0, zf, k_0):\n",
    "\n",
    "    # Calculate the Rayleigh length\n",
    "\n",
    "    zr = 0.5*k_0*w0**2\n",
    "    inv_zr = 1./zr\n",
    "    inv_ctau2 = 1./ctau**2\n",
    "    \n",
    "    \n",
    "    # Diffraction and stretch_factor\n",
    "    diffract_factor = 1. - 1j*(z-zf)*inv_zr\n",
    "    stretch_factor = 1.\n",
    "    # Calculate the argument of the complex exponential\n",
    "    exp_argument = 1j*k_0*( c*t + z0 - z )         - r**2 / (w0**2 * diffract_factor)         - 1./stretch_factor * inv_ctau2 * ( c*t  + z0 - z )**2\n",
    "    # Get the transverse profile\n",
    "    profile_Eperp = np.exp(exp_argument)         / ( diffract_factor * stretch_factor**0.5 )\n",
    "    \n",
    "    return(max_a*profile_Eperp.real )\n",
    "\n",
    "#ENVELOPE\n",
    "def gauss_laser(max_a,FWHM,z):\n",
    "    sigma = FWHM/(np.sqrt(2*np.log(2)))\n",
    "    laser_a = max_a*np.exp(-(z)**2/(2*sigma**2))\n",
    "    return(laser_a)\n"
   ]
  },
  {
   "cell_type": "markdown",
   "metadata": {},
   "source": [
    "##### IONIZATION PROCESS"
   ]
  },
  {
   "cell_type": "code",
   "execution_count": 7,
   "metadata": {
    "collapsed": true
   },
   "outputs": [],
   "source": [
    "#IONIZATION ROBABILITY\n",
    "def ion_prob(psi,U_i):\n",
    "    \n",
    "    #Get the curve of the laser field\n",
    "    E_gauss = gaussian_profile(a0, psi,0,0,w0,ctau,z0,zf,k_0) \n",
    "    \n",
    "    #Get the envelope of the laser\n",
    "    amplitude = gauss_laser(a0, FWHM, psi)\n",
    "\n",
    "\t#Keldysh parameter\n",
    "    gamma_k = (alpha/amplitude)*np.sqrt(U_i/U_H) \n",
    "    \n",
    "\t#Calculate the electrical field of the laser (in V/m)\n",
    "    E_L = 1e2*np.sqrt(2.8e18/(lambda_0*1e6*c*epsilon_0))*E_gauss \n",
    "\t\n",
    "    #Argument of the exponential function\n",
    "    laser_ion = lambda_0/lambda_c * amplitude**3 *gamma_k**3 * (E_k/(np.sqrt(E_L**2)))\n",
    "    tunnel_ion = (gamma_k**3 * energy)/(hbar*omega_0)\n",
    "    \n",
    "    #Probability\n",
    "    prob = np.exp(-2/3 * (laser_ion + tunnel_ion))\n",
    "    \n",
    "    return(prob)\n",
    "\n",
    "#IONIZATION DEGREE\n",
    "def degree(psi,U_i):\n",
    "    n = np.zeros_like(psi+1)\n",
    "    print('\\n------------------------------\\nCALCULATIONS STARTED\\n')\n",
    "    print('- a0:'+ str(a0))\n",
    "    print('- ion level: ' + str(element)+str(ion_niveau)+\"+ -> \"+str(element)+str(ion_niveau+1)+(\"+\\n\"))\n",
    "    for i,val in enumerate(psi):\n",
    "        #sys.stdout.write(\"\\r\" + ( str(int(i/len(psi)*100)) +\"%\"))\n",
    "        sys.stdout.write(\"\\r\" + \"> Current status:\" + str(\"% .1f\" % (i/len(psi)*100)) +\"%\")\n",
    "        prob = ion_prob(val,U_i)\n",
    "        if i+1 < len(psi):\n",
    "            n[i+1]=  n[i]+prob*(n0-n[i])\n",
    "        sys.stdout.flush()\n",
    "    print()\n",
    "    print('Max. ionization degree: '+ str(n[len(psi)-1]/n0 *100) +'%')\n",
    "    print('Max. ionization probability: '+ str(ion_prob(psi[int(len(psi)/2)],U_i)*100)+'%')\n",
    "    return n/n0\n",
    "\n",
    "#Get the min laser amplitude at which ionization begins\n",
    "def get_min_a(psi):\n",
    "    prob = np.zeros_like(psi)\n",
    "    for ii,psi in enumerate(psi):\n",
    "        prob[ii] = ion_prob(psi)\n",
    "        min_a = gauss_laser(a0,FWHM,psi)\n",
    "        if prob[ii] >= 0.01:\n",
    "            break\n",
    "    return min_a\n"
   ]
  },
  {
   "cell_type": "markdown",
   "metadata": {},
   "source": [
    "##### PLOTS"
   ]
  },
  {
   "cell_type": "code",
   "execution_count": null,
   "metadata": {},
   "outputs": [
    {
     "name": "stderr",
     "output_type": "stream",
     "text": [
      "/Users/sebastian/anaconda/lib/python3.6/site-packages/ipykernel_launcher.py:2: DeprecationWarning: object of type <class 'float'> cannot be safely interpreted as an integer.\n",
      "  \n"
     ]
    },
    {
     "name": "stdout",
     "output_type": "stream",
     "text": [
      "\n",
      "------------------------------\n",
      "CALCULATIONS STARTED\n",
      "\n",
      "- a0:1.2\n",
      "- ion level: N0+ -> N1+\n",
      "\n",
      "> Current status: 0.1%"
     ]
    }
   ],
   "source": [
    "#Initialize the psi array (the number of entries should be in the range of 1e7 for correct results)\n",
    "psi = np.linspace(-32e-6,32e-6,1.2e7)\n",
    "\n",
    "#a_ion_min = get_min_a(psi)\n",
    "\n",
    "# Set the size of the plot\n",
    "fig, ax = plt.subplots(figsize=(20,10))\n",
    "\n",
    "# Set the labels of the axis\n",
    "plt.xlabel(\"$\\psi$ [$\\pi$]\")\n",
    "plt.ylabel(r\"a.u\")\n",
    "\n",
    "# Make the grid\n",
    "ax.grid(which='major', alpha=0.8, color='grey', linestyle='--', linewidth=0.6, animated='True')\n",
    "ax.grid(which='minor', alpha=0.6, color='grey', linestyle='--', linewidth=0.5, animated='True')\n",
    "\n",
    "ax.plot(1e5*psi/(np.pi), gaussian_profile(a0, psi, 0, 0, w0, ctau, z0, zf, k_0),linestyle='--', label=\"Laser\")\n",
    "ax.plot(1e5*psi/np.pi, gauss_laser(a0, FWHM, psi), label=\"Envelope\")\n",
    "ax.plot(1e5*psi/np.pi, degree(psi,U_G[ion_niveau]), label=\"Inoization degree\")\n",
    "ax.plot(1e5*psi/np.pi, ion_prob(psi,U_G[ion_niveau]), label=\"Ionization probability\")\n",
    "\n",
    "# Make the legend \n",
    "legend = ax.legend(loc='upper right', shadow=True)\n",
    "\n",
    "for label in legend.get_texts():\n",
    "    label.set_fontsize('medium')\n",
    "\n",
    "for label in legend.get_lines():\n",
    "    label.set_linewidth(1.5)  # the legend line width\n",
    "title(\"Ionization degree [ $a_0 =$\"+str(a0)+\", level \"+str(element)+\"$^{\"+str(ion_niveau)+\"+}\\mapsto$ \"+str(element)+\"$^{\"+str(ion_niveau+1)+\"+}$]\", bbox={'facecolor': '0.85', 'pad': 10})\n",
    "\n",
    "fig.savefig(\"plt_\"+str(element)+str(ion_niveau)+\".png\")\n",
    "\n",
    "# Open the plot\n",
    "plt.show()"
   ]
  },
  {
   "cell_type": "code",
   "execution_count": null,
   "metadata": {
    "collapsed": true
   },
   "outputs": [],
   "source": []
  }
 ],
 "metadata": {
  "kernelspec": {
   "display_name": "Python 3",
   "language": "python",
   "name": "python3"
  },
  "language_info": {
   "codemirror_mode": {
    "name": "ipython",
    "version": 3
   },
   "file_extension": ".py",
   "mimetype": "text/x-python",
   "name": "python",
   "nbconvert_exporter": "python",
   "pygments_lexer": "ipython3",
   "version": "3.6.1"
  }
 },
 "nbformat": 4,
 "nbformat_minor": 2
}
